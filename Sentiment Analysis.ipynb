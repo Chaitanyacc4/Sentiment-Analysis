{
 "cells": [
  {
   "cell_type": "markdown",
   "metadata": {},
   "source": [
    "## What is Sentiment Analysis? \n",
    "- Sentiment Analysis is an Classification use-case that employes NLP techniques to classify a given text into various sentiments, such as positive or negative, Happy, Sad or Neutral, etc. \n",
    "- The key aim of Sentiment Analysis is to categorize opinions expressed in a piece of text, determining the writer's attitude towards a particular subject (topic, product, etc.). \n",
    "\n",
    "\n",
    "- **There exists different forms of Sentiment Analysis:**\n",
    "    1. **Baseline Sentiment Analysis:** Classify a text into one of the three sentiments: Positive, Negative, or Neutral. \n",
    "    2. **Fine-grained Sentiment Analysis:** Classify a text into one of the sentiments on a five-degree scale: Very Positive, Positive, Neutral, Negative, Very Negative. \n",
    "    3. **Intent Analysis:** \n",
    "    4. **Opinion Mining:** \n",
    "    5. **Emotion/Mood Analysis:** Happy, Sad, Fear, Anger, Disguist, "
   ]
  },
  {
   "cell_type": "markdown",
   "metadata": {},
   "source": [
    "## Ways to Perform Sentiment Analysis using Python \n",
    "- Sentiment analysis is one of the hardest tasks in natural language processing because even humans struggle to analyze sentiments accurately. \n",
    "- **Different methods to technically automate Sentiment Analysis include:** \n",
    "    1. Rule-based Systems: <no code> \n",
    "    2. Machine Learning: <1 code> \n",
    "    3. Deep Learning: <1 code> \n",
    "    4. Using pre-trained NLP libraries <3 code> \n",
    "    5. Using online tools (free/purchase) - usually come as a SaaS bundle with attached Tableau/PowerBI dashboards for user-friendly visualizations. <no code> \n",
    "    Using Text Blob\n",
    "    Using Vader\n",
    "    Using Bag of Words Vectorization-based Models\n",
    "    Using LSTM-based Models\n",
    "    Using Transformer-based Models\n",
    "\n",
    "    "
   ]
  },
  {
   "cell_type": "markdown",
   "metadata": {},
   "source": [
    "## A. Sentiment Analysis using Textblob"
   ]
  },
  {
   "cell_type": "code",
   "execution_count": null,
   "metadata": {},
   "outputs": [],
   "source": []
  }
 ],
 "metadata": {
  "kernelspec": {
   "display_name": "Python 3",
   "language": "python",
   "name": "python3"
  },
  "language_info": {
   "codemirror_mode": {
    "name": "ipython",
    "version": 3
   },
   "file_extension": ".py",
   "mimetype": "text/x-python",
   "name": "python",
   "nbconvert_exporter": "python",
   "pygments_lexer": "ipython3",
   "version": "3.8.5"
  }
 },
 "nbformat": 4,
 "nbformat_minor": 4
}
